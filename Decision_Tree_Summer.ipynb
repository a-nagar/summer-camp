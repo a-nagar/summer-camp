{
  "nbformat": 4,
  "nbformat_minor": 0,
  "metadata": {
    "colab": {
      "provenance": [],
      "authorship_tag": "ABX9TyPYWN61WfGnU3ynBRT1YEIF",
      "include_colab_link": true
    },
    "kernelspec": {
      "name": "python3",
      "display_name": "Python 3"
    },
    "language_info": {
      "name": "python"
    }
  },
  "cells": [
    {
      "cell_type": "markdown",
      "metadata": {
        "id": "view-in-github",
        "colab_type": "text"
      },
      "source": [
        "<a href=\"https://colab.research.google.com/github/a-nagar/summer-camp/blob/main/Decision_Tree_Summer.ipynb\" target=\"_parent\"><img src=\"https://colab.research.google.com/assets/colab-badge.svg\" alt=\"Open In Colab\"/></a>"
      ]
    },
    {
      "cell_type": "markdown",
      "source": [
        "# Decision Trees\n",
        "\n",
        "Decision Tree is a supervised ML technique that builds a tree starting at the root by finding the best split at each step along the way.\n",
        "\n",
        "At each step we want to minimize the impurity of the dataset. Impurity refers to the degree of mixing of various classes. Entropy and Gini Index are two commonly used impurity metrics."
      ],
      "metadata": {
        "id": "gz7FdcLd3XrL"
      }
    },
    {
      "cell_type": "code",
      "execution_count": 2,
      "metadata": {
        "id": "0ouozzd82qnc"
      },
      "outputs": [],
      "source": [
        "#Import scikit-learn dataset library\n",
        "from sklearn import datasets\n",
        "\n",
        "#Load dataset\n",
        "cancer = datasets.load_breast_cancer(as_frame=True)"
      ]
    },
    {
      "cell_type": "code",
      "source": [
        "df = cancer.frame"
      ],
      "metadata": {
        "id": "WuQU25gR9grU"
      },
      "execution_count": 3,
      "outputs": []
    },
    {
      "cell_type": "code",
      "source": [
        "X = df.drop('target', axis=1)\n",
        "y = df['target']"
      ],
      "metadata": {
        "id": "LjZCrUvP9PJX"
      },
      "execution_count": 4,
      "outputs": []
    },
    {
      "cell_type": "code",
      "source": [
        "from sklearn.model_selection import train_test_split\n",
        "X_train, X_test, y_train, y_test = train_test_split(X, y, test_size=0.2, random_state=42)"
      ],
      "metadata": {
        "id": "4yyTBTFc9hXh"
      },
      "execution_count": 5,
      "outputs": []
    },
    {
      "cell_type": "code",
      "source": [
        "from sklearn.tree import DecisionTreeClassifier\n",
        "# Create Decision Tree classifer object\n",
        "clf = DecisionTreeClassifier()\n",
        "\n",
        "# Train Decision Tree Classifer\n",
        "clf = clf.fit(X_train,y_train)\n",
        "\n",
        "#Predict the response for test dataset\n",
        "y_pred = clf.predict(X_test)"
      ],
      "metadata": {
        "id": "egCbtz-V9k00"
      },
      "execution_count": 11,
      "outputs": []
    },
    {
      "cell_type": "code",
      "source": [
        "y_pred"
      ],
      "metadata": {
        "colab": {
          "base_uri": "https://localhost:8080/"
        },
        "id": "Dp0YCBp09pzu",
        "outputId": "0ac3ae24-4463-4a76-9a68-6ae6b977db8f"
      },
      "execution_count": 12,
      "outputs": [
        {
          "output_type": "execute_result",
          "data": {
            "text/plain": [
              "array([1, 0, 0, 1, 1, 0, 0, 0, 0, 0, 1, 0, 1, 0, 1, 0, 1, 1, 1, 0, 1, 1,\n",
              "       0, 1, 1, 1, 1, 1, 1, 0, 1, 1, 1, 1, 1, 1, 0, 1, 0, 1, 1, 0, 1, 1,\n",
              "       1, 1, 0, 1, 1, 1, 0, 0, 1, 1, 1, 1, 1, 0, 0, 1, 1, 0, 0, 1, 1, 1,\n",
              "       0, 0, 1, 1, 0, 0, 1, 0, 1, 1, 1, 1, 1, 1, 0, 1, 1, 0, 0, 0, 0, 0,\n",
              "       1, 1, 1, 1, 1, 1, 1, 1, 0, 0, 1, 0, 0, 1, 0, 0, 1, 1, 1, 0, 0, 1,\n",
              "       0, 1, 1, 0])"
            ]
          },
          "metadata": {},
          "execution_count": 12
        }
      ]
    },
    {
      "cell_type": "code",
      "source": [
        "y_test"
      ],
      "metadata": {
        "colab": {
          "base_uri": "https://localhost:8080/"
        },
        "id": "kTswOVDs9rdo",
        "outputId": "9b769a3e-248f-44fd-c2a2-a843bbd9ddf3"
      },
      "execution_count": 13,
      "outputs": [
        {
          "output_type": "execute_result",
          "data": {
            "text/plain": [
              "204    1\n",
              "70     0\n",
              "131    0\n",
              "431    1\n",
              "540    1\n",
              "      ..\n",
              "486    1\n",
              "75     0\n",
              "249    1\n",
              "238    1\n",
              "265    0\n",
              "Name: target, Length: 114, dtype: int64"
            ]
          },
          "metadata": {},
          "execution_count": 13
        }
      ]
    },
    {
      "cell_type": "code",
      "source": [
        "from sklearn.metrics import confusion_matrix, classification_report\n",
        "print(classification_report(y_test, y_pred))\n",
        "confusion_matrix(y_test, y_pred)"
      ],
      "metadata": {
        "colab": {
          "base_uri": "https://localhost:8080/"
        },
        "id": "HJPWfC4U9tBV",
        "outputId": "6a59f3c2-e152-4f69-b9cb-2f64f7402ee4"
      },
      "execution_count": 14,
      "outputs": [
        {
          "output_type": "stream",
          "name": "stdout",
          "text": [
            "              precision    recall  f1-score   support\n",
            "\n",
            "           0       0.91      0.93      0.92        43\n",
            "           1       0.96      0.94      0.95        71\n",
            "\n",
            "    accuracy                           0.94       114\n",
            "   macro avg       0.93      0.94      0.93       114\n",
            "weighted avg       0.94      0.94      0.94       114\n",
            "\n"
          ]
        },
        {
          "output_type": "execute_result",
          "data": {
            "text/plain": [
              "array([[40,  3],\n",
              "       [ 4, 67]])"
            ]
          },
          "metadata": {},
          "execution_count": 14
        }
      ]
    },
    {
      "cell_type": "code",
      "source": [
        "!pip install graphviz"
      ],
      "metadata": {
        "colab": {
          "base_uri": "https://localhost:8080/"
        },
        "id": "M5DsXkYU9xwz",
        "outputId": "6cf2da6b-bc4c-4bfc-89b6-e9d4f2ed35ff"
      },
      "execution_count": 15,
      "outputs": [
        {
          "output_type": "stream",
          "name": "stdout",
          "text": [
            "Requirement already satisfied: graphviz in /usr/local/lib/python3.10/dist-packages (0.20.3)\n"
          ]
        }
      ]
    },
    {
      "cell_type": "code",
      "source": [
        "classes = y.unique()"
      ],
      "metadata": {
        "id": "ryGwms7R-AkT"
      },
      "execution_count": 16,
      "outputs": []
    },
    {
      "cell_type": "code",
      "source": [
        "import graphviz\n",
        "from sklearn import tree\n",
        "dot_data = tree.export_graphviz(clf, out_file=None,\n",
        "                     feature_names = X.columns,class_names=['0','1'],\n",
        "                     filled=True, rounded=True,\n",
        "                     special_characters=True)\n",
        "graph = graphviz.Source(dot_data)\n",
        "graph"
      ],
      "metadata": {
        "colab": {
          "base_uri": "https://localhost:8080/",
          "height": 1000
        },
        "id": "GgPEIGYI-EYX",
        "outputId": "0110788a-602f-4963-c108-24ddfb70ede8"
      },
      "execution_count": 18,
      "outputs": [
        {
          "output_type": "execute_result",
          "data": {
            "image/svg+xml": "<?xml version=\"1.0\" encoding=\"UTF-8\" standalone=\"no\"?>\n<!DOCTYPE svg PUBLIC \"-//W3C//DTD SVG 1.1//EN\"\n \"http://www.w3.org/Graphics/SVG/1.1/DTD/svg11.dtd\">\n<!-- Generated by graphviz version 2.43.0 (0)\n -->\n<!-- Title: Tree Pages: 1 -->\n<svg width=\"1513pt\" height=\"909pt\"\n viewBox=\"0.00 0.00 1513.00 909.00\" xmlns=\"http://www.w3.org/2000/svg\" xmlns:xlink=\"http://www.w3.org/1999/xlink\">\n<g id=\"graph0\" class=\"graph\" transform=\"scale(1 1) rotate(0) translate(4 905)\">\n<title>Tree</title>\n<polygon fill=\"white\" stroke=\"transparent\" points=\"-4,4 -4,-905 1509,-905 1509,4 -4,4\"/>\n<!-- 0 -->\n<g id=\"node1\" class=\"node\">\n<title>0</title>\n<path fill=\"#aed7f4\" stroke=\"black\" d=\"M1060.5,-901C1060.5,-901 890.5,-901 890.5,-901 884.5,-901 878.5,-895 878.5,-889 878.5,-889 878.5,-830 878.5,-830 878.5,-824 884.5,-818 890.5,-818 890.5,-818 1060.5,-818 1060.5,-818 1066.5,-818 1072.5,-824 1072.5,-830 1072.5,-830 1072.5,-889 1072.5,-889 1072.5,-895 1066.5,-901 1060.5,-901\"/>\n<text text-anchor=\"start\" x=\"886.5\" y=\"-885.8\" font-family=\"Helvetica,sans-Serif\" font-size=\"14.00\">mean concave points ≤ 0.051</text>\n<text text-anchor=\"start\" x=\"940\" y=\"-870.8\" font-family=\"Helvetica,sans-Serif\" font-size=\"14.00\">gini = 0.467</text>\n<text text-anchor=\"start\" x=\"930.5\" y=\"-855.8\" font-family=\"Helvetica,sans-Serif\" font-size=\"14.00\">samples = 455</text>\n<text text-anchor=\"start\" x=\"921\" y=\"-840.8\" font-family=\"Helvetica,sans-Serif\" font-size=\"14.00\">value = [169, 286]</text>\n<text text-anchor=\"start\" x=\"948\" y=\"-825.8\" font-family=\"Helvetica,sans-Serif\" font-size=\"14.00\">class = 1</text>\n</g>\n<!-- 1 -->\n<g id=\"node2\" class=\"node\">\n<title>1</title>\n<path fill=\"#45a3e7\" stroke=\"black\" d=\"M862.5,-782C862.5,-782 748.5,-782 748.5,-782 742.5,-782 736.5,-776 736.5,-770 736.5,-770 736.5,-711 736.5,-711 736.5,-705 742.5,-699 748.5,-699 748.5,-699 862.5,-699 862.5,-699 868.5,-699 874.5,-705 874.5,-711 874.5,-711 874.5,-770 874.5,-770 874.5,-776 868.5,-782 862.5,-782\"/>\n<text text-anchor=\"start\" x=\"744.5\" y=\"-766.8\" font-family=\"Helvetica,sans-Serif\" font-size=\"14.00\">worst radius ≤ 16.83</text>\n<text text-anchor=\"start\" x=\"770\" y=\"-751.8\" font-family=\"Helvetica,sans-Serif\" font-size=\"14.00\">gini = 0.107</text>\n<text text-anchor=\"start\" x=\"760.5\" y=\"-736.8\" font-family=\"Helvetica,sans-Serif\" font-size=\"14.00\">samples = 282</text>\n<text text-anchor=\"start\" x=\"755\" y=\"-721.8\" font-family=\"Helvetica,sans-Serif\" font-size=\"14.00\">value = [16, 266]</text>\n<text text-anchor=\"start\" x=\"778\" y=\"-706.8\" font-family=\"Helvetica,sans-Serif\" font-size=\"14.00\">class = 1</text>\n</g>\n<!-- 0&#45;&gt;1 -->\n<g id=\"edge1\" class=\"edge\">\n<title>0&#45;&gt;1</title>\n<path fill=\"none\" stroke=\"black\" d=\"M916.52,-817.91C902.41,-808.2 887.24,-797.76 872.79,-787.81\"/>\n<polygon fill=\"black\" stroke=\"black\" points=\"874.6,-784.81 864.38,-782.02 870.63,-790.57 874.6,-784.81\"/>\n<text text-anchor=\"middle\" x=\"868.92\" y=\"-802.91\" font-family=\"Helvetica,sans-Serif\" font-size=\"14.00\">True</text>\n</g>\n<!-- 22 -->\n<g id=\"node23\" class=\"node\">\n<title>22</title>\n<path fill=\"#e89153\" stroke=\"black\" d=\"M1196,-782C1196,-782 1029,-782 1029,-782 1023,-782 1017,-776 1017,-770 1017,-770 1017,-711 1017,-711 1017,-705 1023,-699 1029,-699 1029,-699 1196,-699 1196,-699 1202,-699 1208,-705 1208,-711 1208,-711 1208,-770 1208,-770 1208,-776 1202,-782 1196,-782\"/>\n<text text-anchor=\"start\" x=\"1025\" y=\"-766.8\" font-family=\"Helvetica,sans-Serif\" font-size=\"14.00\">worst concave points ≤ 0.147</text>\n<text text-anchor=\"start\" x=\"1077\" y=\"-751.8\" font-family=\"Helvetica,sans-Serif\" font-size=\"14.00\">gini = 0.204</text>\n<text text-anchor=\"start\" x=\"1067.5\" y=\"-736.8\" font-family=\"Helvetica,sans-Serif\" font-size=\"14.00\">samples = 173</text>\n<text text-anchor=\"start\" x=\"1062\" y=\"-721.8\" font-family=\"Helvetica,sans-Serif\" font-size=\"14.00\">value = [153, 20]</text>\n<text text-anchor=\"start\" x=\"1085\" y=\"-706.8\" font-family=\"Helvetica,sans-Serif\" font-size=\"14.00\">class = 0</text>\n</g>\n<!-- 0&#45;&gt;22 -->\n<g id=\"edge22\" class=\"edge\">\n<title>0&#45;&gt;22</title>\n<path fill=\"none\" stroke=\"black\" d=\"M1023.03,-817.91C1034.08,-808.47 1045.94,-798.34 1057.29,-788.65\"/>\n<polygon fill=\"black\" stroke=\"black\" points=\"1059.72,-791.18 1065.05,-782.02 1055.18,-785.85 1059.72,-791.18\"/>\n<text text-anchor=\"middle\" x=\"1063.09\" y=\"-803.24\" font-family=\"Helvetica,sans-Serif\" font-size=\"14.00\">False</text>\n</g>\n<!-- 2 -->\n<g id=\"node3\" class=\"node\">\n<title>2</title>\n<path fill=\"#3d9fe6\" stroke=\"black\" d=\"M619.5,-663C619.5,-663 509.5,-663 509.5,-663 503.5,-663 497.5,-657 497.5,-651 497.5,-651 497.5,-592 497.5,-592 497.5,-586 503.5,-580 509.5,-580 509.5,-580 619.5,-580 619.5,-580 625.5,-580 631.5,-586 631.5,-592 631.5,-592 631.5,-651 631.5,-651 631.5,-657 625.5,-663 619.5,-663\"/>\n<text text-anchor=\"start\" x=\"505.5\" y=\"-647.8\" font-family=\"Helvetica,sans-Serif\" font-size=\"14.00\">radius error ≤ 0.626</text>\n<text text-anchor=\"start\" x=\"529\" y=\"-632.8\" font-family=\"Helvetica,sans-Serif\" font-size=\"14.00\">gini = 0.037</text>\n<text text-anchor=\"start\" x=\"519.5\" y=\"-617.8\" font-family=\"Helvetica,sans-Serif\" font-size=\"14.00\">samples = 263</text>\n<text text-anchor=\"start\" x=\"517.5\" y=\"-602.8\" font-family=\"Helvetica,sans-Serif\" font-size=\"14.00\">value = [5, 258]</text>\n<text text-anchor=\"start\" x=\"537\" y=\"-587.8\" font-family=\"Helvetica,sans-Serif\" font-size=\"14.00\">class = 1</text>\n</g>\n<!-- 1&#45;&gt;2 -->\n<g id=\"edge2\" class=\"edge\">\n<title>1&#45;&gt;2</title>\n<path fill=\"none\" stroke=\"black\" d=\"M736.44,-705.97C706.69,-691.53 671.79,-674.59 641.24,-659.76\"/>\n<polygon fill=\"black\" stroke=\"black\" points=\"642.43,-656.44 631.91,-655.22 639.37,-662.74 642.43,-656.44\"/>\n</g>\n<!-- 17 -->\n<g id=\"node18\" class=\"node\">\n<title>17</title>\n<path fill=\"#f8ddc9\" stroke=\"black\" d=\"M866,-663C866,-663 745,-663 745,-663 739,-663 733,-657 733,-651 733,-651 733,-592 733,-592 733,-586 739,-580 745,-580 745,-580 866,-580 866,-580 872,-580 878,-586 878,-592 878,-592 878,-651 878,-651 878,-657 872,-663 866,-663\"/>\n<text text-anchor=\"start\" x=\"741\" y=\"-647.8\" font-family=\"Helvetica,sans-Serif\" font-size=\"14.00\">mean texture ≤ 16.19</text>\n<text text-anchor=\"start\" x=\"770\" y=\"-632.8\" font-family=\"Helvetica,sans-Serif\" font-size=\"14.00\">gini = 0.488</text>\n<text text-anchor=\"start\" x=\"764.5\" y=\"-617.8\" font-family=\"Helvetica,sans-Serif\" font-size=\"14.00\">samples = 19</text>\n<text text-anchor=\"start\" x=\"762.5\" y=\"-602.8\" font-family=\"Helvetica,sans-Serif\" font-size=\"14.00\">value = [11, 8]</text>\n<text text-anchor=\"start\" x=\"778\" y=\"-587.8\" font-family=\"Helvetica,sans-Serif\" font-size=\"14.00\">class = 0</text>\n</g>\n<!-- 1&#45;&gt;17 -->\n<g id=\"edge17\" class=\"edge\">\n<title>1&#45;&gt;17</title>\n<path fill=\"none\" stroke=\"black\" d=\"M805.5,-698.91C805.5,-690.65 805.5,-681.86 805.5,-673.3\"/>\n<polygon fill=\"black\" stroke=\"black\" points=\"809,-673.02 805.5,-663.02 802,-673.02 809,-673.02\"/>\n</g>\n<!-- 3 -->\n<g id=\"node4\" class=\"node\">\n<title>3</title>\n<path fill=\"#3b9ee5\" stroke=\"black\" d=\"M437,-544C437,-544 286,-544 286,-544 280,-544 274,-538 274,-532 274,-532 274,-473 274,-473 274,-467 280,-461 286,-461 286,-461 437,-461 437,-461 443,-461 449,-467 449,-473 449,-473 449,-532 449,-532 449,-538 443,-544 437,-544\"/>\n<text text-anchor=\"start\" x=\"282\" y=\"-528.8\" font-family=\"Helvetica,sans-Serif\" font-size=\"14.00\">worst smoothness ≤ 0.178</text>\n<text text-anchor=\"start\" x=\"326\" y=\"-513.8\" font-family=\"Helvetica,sans-Serif\" font-size=\"14.00\">gini = 0.023</text>\n<text text-anchor=\"start\" x=\"316.5\" y=\"-498.8\" font-family=\"Helvetica,sans-Serif\" font-size=\"14.00\">samples = 260</text>\n<text text-anchor=\"start\" x=\"314.5\" y=\"-483.8\" font-family=\"Helvetica,sans-Serif\" font-size=\"14.00\">value = [3, 257]</text>\n<text text-anchor=\"start\" x=\"334\" y=\"-468.8\" font-family=\"Helvetica,sans-Serif\" font-size=\"14.00\">class = 1</text>\n</g>\n<!-- 2&#45;&gt;3 -->\n<g id=\"edge3\" class=\"edge\">\n<title>2&#45;&gt;3</title>\n<path fill=\"none\" stroke=\"black\" d=\"M497.47,-581.87C479.32,-571.41 459.51,-559.99 440.76,-549.18\"/>\n<polygon fill=\"black\" stroke=\"black\" points=\"442.36,-546.06 431.95,-544.1 438.86,-552.13 442.36,-546.06\"/>\n</g>\n<!-- 14 -->\n<g id=\"node15\" class=\"node\">\n<title>14</title>\n<path fill=\"#f2c09c\" stroke=\"black\" d=\"M649.5,-544C649.5,-544 479.5,-544 479.5,-544 473.5,-544 467.5,-538 467.5,-532 467.5,-532 467.5,-473 467.5,-473 467.5,-467 473.5,-461 479.5,-461 479.5,-461 649.5,-461 649.5,-461 655.5,-461 661.5,-467 661.5,-473 661.5,-473 661.5,-532 661.5,-532 661.5,-538 655.5,-544 649.5,-544\"/>\n<text text-anchor=\"start\" x=\"475.5\" y=\"-528.8\" font-family=\"Helvetica,sans-Serif\" font-size=\"14.00\">mean concave points ≤ 0.029</text>\n<text text-anchor=\"start\" x=\"529\" y=\"-513.8\" font-family=\"Helvetica,sans-Serif\" font-size=\"14.00\">gini = 0.444</text>\n<text text-anchor=\"start\" x=\"527\" y=\"-498.8\" font-family=\"Helvetica,sans-Serif\" font-size=\"14.00\">samples = 3</text>\n<text text-anchor=\"start\" x=\"525\" y=\"-483.8\" font-family=\"Helvetica,sans-Serif\" font-size=\"14.00\">value = [2, 1]</text>\n<text text-anchor=\"start\" x=\"537\" y=\"-468.8\" font-family=\"Helvetica,sans-Serif\" font-size=\"14.00\">class = 0</text>\n</g>\n<!-- 2&#45;&gt;14 -->\n<g id=\"edge14\" class=\"edge\">\n<title>2&#45;&gt;14</title>\n<path fill=\"none\" stroke=\"black\" d=\"M564.5,-579.91C564.5,-571.65 564.5,-562.86 564.5,-554.3\"/>\n<polygon fill=\"black\" stroke=\"black\" points=\"568,-554.02 564.5,-544.02 561,-554.02 568,-554.02\"/>\n</g>\n<!-- 4 -->\n<g id=\"node5\" class=\"node\">\n<title>4</title>\n<path fill=\"#3b9ee5\" stroke=\"black\" d=\"M307,-425C307,-425 160,-425 160,-425 154,-425 148,-419 148,-413 148,-413 148,-354 148,-354 148,-348 154,-342 160,-342 160,-342 307,-342 307,-342 313,-342 319,-348 319,-354 319,-354 319,-413 319,-413 319,-419 313,-425 307,-425\"/>\n<text text-anchor=\"start\" x=\"156\" y=\"-409.8\" font-family=\"Helvetica,sans-Serif\" font-size=\"14.00\">smoothness error ≤ 0.003</text>\n<text text-anchor=\"start\" x=\"198\" y=\"-394.8\" font-family=\"Helvetica,sans-Serif\" font-size=\"14.00\">gini = 0.015</text>\n<text text-anchor=\"start\" x=\"188.5\" y=\"-379.8\" font-family=\"Helvetica,sans-Serif\" font-size=\"14.00\">samples = 259</text>\n<text text-anchor=\"start\" x=\"186.5\" y=\"-364.8\" font-family=\"Helvetica,sans-Serif\" font-size=\"14.00\">value = [2, 257]</text>\n<text text-anchor=\"start\" x=\"206\" y=\"-349.8\" font-family=\"Helvetica,sans-Serif\" font-size=\"14.00\">class = 1</text>\n</g>\n<!-- 3&#45;&gt;4 -->\n<g id=\"edge4\" class=\"edge\">\n<title>3&#45;&gt;4</title>\n<path fill=\"none\" stroke=\"black\" d=\"M317.09,-460.91C306.86,-451.56 295.9,-441.54 285.39,-431.93\"/>\n<polygon fill=\"black\" stroke=\"black\" points=\"287.57,-429.18 277.83,-425.02 282.85,-434.35 287.57,-429.18\"/>\n</g>\n<!-- 13 -->\n<g id=\"node14\" class=\"node\">\n<title>13</title>\n<path fill=\"#e58139\" stroke=\"black\" d=\"M420,-417.5C420,-417.5 349,-417.5 349,-417.5 343,-417.5 337,-411.5 337,-405.5 337,-405.5 337,-361.5 337,-361.5 337,-355.5 343,-349.5 349,-349.5 349,-349.5 420,-349.5 420,-349.5 426,-349.5 432,-355.5 432,-361.5 432,-361.5 432,-405.5 432,-405.5 432,-411.5 426,-417.5 420,-417.5\"/>\n<text text-anchor=\"start\" x=\"356.5\" y=\"-402.3\" font-family=\"Helvetica,sans-Serif\" font-size=\"14.00\">gini = 0.0</text>\n<text text-anchor=\"start\" x=\"347\" y=\"-387.3\" font-family=\"Helvetica,sans-Serif\" font-size=\"14.00\">samples = 1</text>\n<text text-anchor=\"start\" x=\"345\" y=\"-372.3\" font-family=\"Helvetica,sans-Serif\" font-size=\"14.00\">value = [1, 0]</text>\n<text text-anchor=\"start\" x=\"357\" y=\"-357.3\" font-family=\"Helvetica,sans-Serif\" font-size=\"14.00\">class = 0</text>\n</g>\n<!-- 3&#45;&gt;13 -->\n<g id=\"edge13\" class=\"edge\">\n<title>3&#45;&gt;13</title>\n<path fill=\"none\" stroke=\"black\" d=\"M369.48,-460.91C371.58,-450.2 373.86,-438.62 375.99,-427.78\"/>\n<polygon fill=\"black\" stroke=\"black\" points=\"379.49,-428.15 377.98,-417.67 372.62,-426.8 379.49,-428.15\"/>\n</g>\n<!-- 5 -->\n<g id=\"node6\" class=\"node\">\n<title>5</title>\n<path fill=\"#5aade9\" stroke=\"black\" d=\"M220,-306C220,-306 73,-306 73,-306 67,-306 61,-300 61,-294 61,-294 61,-235 61,-235 61,-229 67,-223 73,-223 73,-223 220,-223 220,-223 226,-223 232,-229 232,-235 232,-235 232,-294 232,-294 232,-300 226,-306 220,-306\"/>\n<text text-anchor=\"start\" x=\"69\" y=\"-290.8\" font-family=\"Helvetica,sans-Serif\" font-size=\"14.00\">smoothness error ≤ 0.003</text>\n<text text-anchor=\"start\" x=\"111\" y=\"-275.8\" font-family=\"Helvetica,sans-Serif\" font-size=\"14.00\">gini = 0.245</text>\n<text text-anchor=\"start\" x=\"109\" y=\"-260.8\" font-family=\"Helvetica,sans-Serif\" font-size=\"14.00\">samples = 7</text>\n<text text-anchor=\"start\" x=\"107\" y=\"-245.8\" font-family=\"Helvetica,sans-Serif\" font-size=\"14.00\">value = [1, 6]</text>\n<text text-anchor=\"start\" x=\"119\" y=\"-230.8\" font-family=\"Helvetica,sans-Serif\" font-size=\"14.00\">class = 1</text>\n</g>\n<!-- 4&#45;&gt;5 -->\n<g id=\"edge5\" class=\"edge\">\n<title>4&#45;&gt;5</title>\n<path fill=\"none\" stroke=\"black\" d=\"M203.32,-341.91C196.64,-332.92 189.49,-323.32 182.6,-314.05\"/>\n<polygon fill=\"black\" stroke=\"black\" points=\"185.41,-311.96 176.63,-306.02 179.79,-316.13 185.41,-311.96\"/>\n</g>\n<!-- 8 -->\n<g id=\"node9\" class=\"node\">\n<title>8</title>\n<path fill=\"#3a9de5\" stroke=\"black\" d=\"M381,-306C381,-306 262,-306 262,-306 256,-306 250,-300 250,-294 250,-294 250,-235 250,-235 250,-229 256,-223 262,-223 262,-223 381,-223 381,-223 387,-223 393,-229 393,-235 393,-235 393,-294 393,-294 393,-300 387,-306 381,-306\"/>\n<text text-anchor=\"start\" x=\"258\" y=\"-290.8\" font-family=\"Helvetica,sans-Serif\" font-size=\"14.00\">worst texture ≤ 33.35</text>\n<text text-anchor=\"start\" x=\"286\" y=\"-275.8\" font-family=\"Helvetica,sans-Serif\" font-size=\"14.00\">gini = 0.008</text>\n<text text-anchor=\"start\" x=\"276.5\" y=\"-260.8\" font-family=\"Helvetica,sans-Serif\" font-size=\"14.00\">samples = 252</text>\n<text text-anchor=\"start\" x=\"274.5\" y=\"-245.8\" font-family=\"Helvetica,sans-Serif\" font-size=\"14.00\">value = [1, 251]</text>\n<text text-anchor=\"start\" x=\"294\" y=\"-230.8\" font-family=\"Helvetica,sans-Serif\" font-size=\"14.00\">class = 1</text>\n</g>\n<!-- 4&#45;&gt;8 -->\n<g id=\"edge8\" class=\"edge\">\n<title>4&#45;&gt;8</title>\n<path fill=\"none\" stroke=\"black\" d=\"M264.03,-341.91C270.79,-332.92 278.02,-323.32 284.98,-314.05\"/>\n<polygon fill=\"black\" stroke=\"black\" points=\"287.81,-316.12 291.02,-306.02 282.21,-311.91 287.81,-316.12\"/>\n</g>\n<!-- 6 -->\n<g id=\"node7\" class=\"node\">\n<title>6</title>\n<path fill=\"#399de5\" stroke=\"black\" d=\"M83,-179.5C83,-179.5 12,-179.5 12,-179.5 6,-179.5 0,-173.5 0,-167.5 0,-167.5 0,-123.5 0,-123.5 0,-117.5 6,-111.5 12,-111.5 12,-111.5 83,-111.5 83,-111.5 89,-111.5 95,-117.5 95,-123.5 95,-123.5 95,-167.5 95,-167.5 95,-173.5 89,-179.5 83,-179.5\"/>\n<text text-anchor=\"start\" x=\"19.5\" y=\"-164.3\" font-family=\"Helvetica,sans-Serif\" font-size=\"14.00\">gini = 0.0</text>\n<text text-anchor=\"start\" x=\"10\" y=\"-149.3\" font-family=\"Helvetica,sans-Serif\" font-size=\"14.00\">samples = 6</text>\n<text text-anchor=\"start\" x=\"8\" y=\"-134.3\" font-family=\"Helvetica,sans-Serif\" font-size=\"14.00\">value = [0, 6]</text>\n<text text-anchor=\"start\" x=\"20\" y=\"-119.3\" font-family=\"Helvetica,sans-Serif\" font-size=\"14.00\">class = 1</text>\n</g>\n<!-- 5&#45;&gt;6 -->\n<g id=\"edge6\" class=\"edge\">\n<title>5&#45;&gt;6</title>\n<path fill=\"none\" stroke=\"black\" d=\"M112.15,-222.91C102.44,-211.43 91.87,-198.94 82.14,-187.44\"/>\n<polygon fill=\"black\" stroke=\"black\" points=\"84.7,-185.04 75.56,-179.67 79.35,-189.56 84.7,-185.04\"/>\n</g>\n<!-- 7 -->\n<g id=\"node8\" class=\"node\">\n<title>7</title>\n<path fill=\"#e58139\" stroke=\"black\" d=\"M196,-179.5C196,-179.5 125,-179.5 125,-179.5 119,-179.5 113,-173.5 113,-167.5 113,-167.5 113,-123.5 113,-123.5 113,-117.5 119,-111.5 125,-111.5 125,-111.5 196,-111.5 196,-111.5 202,-111.5 208,-117.5 208,-123.5 208,-123.5 208,-167.5 208,-167.5 208,-173.5 202,-179.5 196,-179.5\"/>\n<text text-anchor=\"start\" x=\"132.5\" y=\"-164.3\" font-family=\"Helvetica,sans-Serif\" font-size=\"14.00\">gini = 0.0</text>\n<text text-anchor=\"start\" x=\"123\" y=\"-149.3\" font-family=\"Helvetica,sans-Serif\" font-size=\"14.00\">samples = 1</text>\n<text text-anchor=\"start\" x=\"121\" y=\"-134.3\" font-family=\"Helvetica,sans-Serif\" font-size=\"14.00\">value = [1, 0]</text>\n<text text-anchor=\"start\" x=\"133\" y=\"-119.3\" font-family=\"Helvetica,sans-Serif\" font-size=\"14.00\">class = 0</text>\n</g>\n<!-- 5&#45;&gt;7 -->\n<g id=\"edge7\" class=\"edge\">\n<title>5&#45;&gt;7</title>\n<path fill=\"none\" stroke=\"black\" d=\"M151.36,-222.91C152.64,-212.2 154.02,-200.62 155.32,-189.78\"/>\n<polygon fill=\"black\" stroke=\"black\" points=\"158.82,-190.01 156.53,-179.67 151.87,-189.18 158.82,-190.01\"/>\n</g>\n<!-- 9 -->\n<g id=\"node10\" class=\"node\">\n<title>9</title>\n<path fill=\"#399de5\" stroke=\"black\" d=\"M351.5,-179.5C351.5,-179.5 265.5,-179.5 265.5,-179.5 259.5,-179.5 253.5,-173.5 253.5,-167.5 253.5,-167.5 253.5,-123.5 253.5,-123.5 253.5,-117.5 259.5,-111.5 265.5,-111.5 265.5,-111.5 351.5,-111.5 351.5,-111.5 357.5,-111.5 363.5,-117.5 363.5,-123.5 363.5,-123.5 363.5,-167.5 363.5,-167.5 363.5,-173.5 357.5,-179.5 351.5,-179.5\"/>\n<text text-anchor=\"start\" x=\"280.5\" y=\"-164.3\" font-family=\"Helvetica,sans-Serif\" font-size=\"14.00\">gini = 0.0</text>\n<text text-anchor=\"start\" x=\"263.5\" y=\"-149.3\" font-family=\"Helvetica,sans-Serif\" font-size=\"14.00\">samples = 237</text>\n<text text-anchor=\"start\" x=\"261.5\" y=\"-134.3\" font-family=\"Helvetica,sans-Serif\" font-size=\"14.00\">value = [0, 237]</text>\n<text text-anchor=\"start\" x=\"281\" y=\"-119.3\" font-family=\"Helvetica,sans-Serif\" font-size=\"14.00\">class = 1</text>\n</g>\n<!-- 8&#45;&gt;9 -->\n<g id=\"edge9\" class=\"edge\">\n<title>8&#45;&gt;9</title>\n<path fill=\"none\" stroke=\"black\" d=\"M316.99,-222.91C315.8,-212.2 314.51,-200.62 313.31,-189.78\"/>\n<polygon fill=\"black\" stroke=\"black\" points=\"316.77,-189.22 312.19,-179.67 309.81,-189.99 316.77,-189.22\"/>\n</g>\n<!-- 10 -->\n<g id=\"node11\" class=\"node\">\n<title>10</title>\n<path fill=\"#47a4e7\" stroke=\"black\" d=\"M513,-187C513,-187 394,-187 394,-187 388,-187 382,-181 382,-175 382,-175 382,-116 382,-116 382,-110 388,-104 394,-104 394,-104 513,-104 513,-104 519,-104 525,-110 525,-116 525,-116 525,-175 525,-175 525,-181 519,-187 513,-187\"/>\n<text text-anchor=\"start\" x=\"390\" y=\"-171.8\" font-family=\"Helvetica,sans-Serif\" font-size=\"14.00\">worst texture ≤ 33.56</text>\n<text text-anchor=\"start\" x=\"418\" y=\"-156.8\" font-family=\"Helvetica,sans-Serif\" font-size=\"14.00\">gini = 0.124</text>\n<text text-anchor=\"start\" x=\"412.5\" y=\"-141.8\" font-family=\"Helvetica,sans-Serif\" font-size=\"14.00\">samples = 15</text>\n<text text-anchor=\"start\" x=\"410.5\" y=\"-126.8\" font-family=\"Helvetica,sans-Serif\" font-size=\"14.00\">value = [1, 14]</text>\n<text text-anchor=\"start\" x=\"426\" y=\"-111.8\" font-family=\"Helvetica,sans-Serif\" font-size=\"14.00\">class = 1</text>\n</g>\n<!-- 8&#45;&gt;10 -->\n<g id=\"edge10\" class=\"edge\">\n<title>8&#45;&gt;10</title>\n<path fill=\"none\" stroke=\"black\" d=\"M367.3,-222.91C377.84,-213.56 389.15,-203.54 399.99,-193.93\"/>\n<polygon fill=\"black\" stroke=\"black\" points=\"402.62,-196.27 407.78,-187.02 397.98,-191.03 402.62,-196.27\"/>\n</g>\n<!-- 11 -->\n<g id=\"node12\" class=\"node\">\n<title>11</title>\n<path fill=\"#e58139\" stroke=\"black\" d=\"M430,-68C430,-68 359,-68 359,-68 353,-68 347,-62 347,-56 347,-56 347,-12 347,-12 347,-6 353,0 359,0 359,0 430,0 430,0 436,0 442,-6 442,-12 442,-12 442,-56 442,-56 442,-62 436,-68 430,-68\"/>\n<text text-anchor=\"start\" x=\"366.5\" y=\"-52.8\" font-family=\"Helvetica,sans-Serif\" font-size=\"14.00\">gini = 0.0</text>\n<text text-anchor=\"start\" x=\"357\" y=\"-37.8\" font-family=\"Helvetica,sans-Serif\" font-size=\"14.00\">samples = 1</text>\n<text text-anchor=\"start\" x=\"355\" y=\"-22.8\" font-family=\"Helvetica,sans-Serif\" font-size=\"14.00\">value = [1, 0]</text>\n<text text-anchor=\"start\" x=\"367\" y=\"-7.8\" font-family=\"Helvetica,sans-Serif\" font-size=\"14.00\">class = 0</text>\n</g>\n<!-- 10&#45;&gt;11 -->\n<g id=\"edge11\" class=\"edge\">\n<title>10&#45;&gt;11</title>\n<path fill=\"none\" stroke=\"black\" d=\"M431.53,-103.73C426.86,-95.06 421.92,-85.9 417.23,-77.18\"/>\n<polygon fill=\"black\" stroke=\"black\" points=\"420.27,-75.44 412.44,-68.3 414.1,-78.76 420.27,-75.44\"/>\n</g>\n<!-- 12 -->\n<g id=\"node13\" class=\"node\">\n<title>12</title>\n<path fill=\"#399de5\" stroke=\"black\" d=\"M550.5,-68C550.5,-68 472.5,-68 472.5,-68 466.5,-68 460.5,-62 460.5,-56 460.5,-56 460.5,-12 460.5,-12 460.5,-6 466.5,0 472.5,0 472.5,0 550.5,0 550.5,0 556.5,0 562.5,-6 562.5,-12 562.5,-12 562.5,-56 562.5,-56 562.5,-62 556.5,-68 550.5,-68\"/>\n<text text-anchor=\"start\" x=\"483.5\" y=\"-52.8\" font-family=\"Helvetica,sans-Serif\" font-size=\"14.00\">gini = 0.0</text>\n<text text-anchor=\"start\" x=\"470.5\" y=\"-37.8\" font-family=\"Helvetica,sans-Serif\" font-size=\"14.00\">samples = 14</text>\n<text text-anchor=\"start\" x=\"468.5\" y=\"-22.8\" font-family=\"Helvetica,sans-Serif\" font-size=\"14.00\">value = [0, 14]</text>\n<text text-anchor=\"start\" x=\"484\" y=\"-7.8\" font-family=\"Helvetica,sans-Serif\" font-size=\"14.00\">class = 1</text>\n</g>\n<!-- 10&#45;&gt;12 -->\n<g id=\"edge12\" class=\"edge\">\n<title>10&#45;&gt;12</title>\n<path fill=\"none\" stroke=\"black\" d=\"M475.1,-103.73C479.69,-95.06 484.54,-85.9 489.16,-77.18\"/>\n<polygon fill=\"black\" stroke=\"black\" points=\"492.27,-78.77 493.86,-68.3 486.09,-75.5 492.27,-78.77\"/>\n</g>\n<!-- 15 -->\n<g id=\"node16\" class=\"node\">\n<title>15</title>\n<path fill=\"#399de5\" stroke=\"black\" d=\"M578,-417.5C578,-417.5 507,-417.5 507,-417.5 501,-417.5 495,-411.5 495,-405.5 495,-405.5 495,-361.5 495,-361.5 495,-355.5 501,-349.5 507,-349.5 507,-349.5 578,-349.5 578,-349.5 584,-349.5 590,-355.5 590,-361.5 590,-361.5 590,-405.5 590,-405.5 590,-411.5 584,-417.5 578,-417.5\"/>\n<text text-anchor=\"start\" x=\"514.5\" y=\"-402.3\" font-family=\"Helvetica,sans-Serif\" font-size=\"14.00\">gini = 0.0</text>\n<text text-anchor=\"start\" x=\"505\" y=\"-387.3\" font-family=\"Helvetica,sans-Serif\" font-size=\"14.00\">samples = 1</text>\n<text text-anchor=\"start\" x=\"503\" y=\"-372.3\" font-family=\"Helvetica,sans-Serif\" font-size=\"14.00\">value = [0, 1]</text>\n<text text-anchor=\"start\" x=\"515\" y=\"-357.3\" font-family=\"Helvetica,sans-Serif\" font-size=\"14.00\">class = 1</text>\n</g>\n<!-- 14&#45;&gt;15 -->\n<g id=\"edge15\" class=\"edge\">\n<title>14&#45;&gt;15</title>\n<path fill=\"none\" stroke=\"black\" d=\"M556.87,-460.91C554.85,-450.2 552.68,-438.62 550.64,-427.78\"/>\n<polygon fill=\"black\" stroke=\"black\" points=\"554.02,-426.85 548.74,-417.67 547.14,-428.14 554.02,-426.85\"/>\n</g>\n<!-- 16 -->\n<g id=\"node17\" class=\"node\">\n<title>16</title>\n<path fill=\"#e58139\" stroke=\"black\" d=\"M691,-417.5C691,-417.5 620,-417.5 620,-417.5 614,-417.5 608,-411.5 608,-405.5 608,-405.5 608,-361.5 608,-361.5 608,-355.5 614,-349.5 620,-349.5 620,-349.5 691,-349.5 691,-349.5 697,-349.5 703,-355.5 703,-361.5 703,-361.5 703,-405.5 703,-405.5 703,-411.5 697,-417.5 691,-417.5\"/>\n<text text-anchor=\"start\" x=\"627.5\" y=\"-402.3\" font-family=\"Helvetica,sans-Serif\" font-size=\"14.00\">gini = 0.0</text>\n<text text-anchor=\"start\" x=\"618\" y=\"-387.3\" font-family=\"Helvetica,sans-Serif\" font-size=\"14.00\">samples = 2</text>\n<text text-anchor=\"start\" x=\"616\" y=\"-372.3\" font-family=\"Helvetica,sans-Serif\" font-size=\"14.00\">value = [2, 0]</text>\n<text text-anchor=\"start\" x=\"628\" y=\"-357.3\" font-family=\"Helvetica,sans-Serif\" font-size=\"14.00\">class = 0</text>\n</g>\n<!-- 14&#45;&gt;16 -->\n<g id=\"edge16\" class=\"edge\">\n<title>14&#45;&gt;16</title>\n<path fill=\"none\" stroke=\"black\" d=\"M596.07,-460.91C604.91,-449.54 614.53,-437.18 623.4,-425.77\"/>\n<polygon fill=\"black\" stroke=\"black\" points=\"626.33,-427.71 629.7,-417.67 620.8,-423.41 626.33,-427.71\"/>\n</g>\n<!-- 18 -->\n<g id=\"node19\" class=\"node\">\n<title>18</title>\n<path fill=\"#399de5\" stroke=\"black\" d=\"M763,-536.5C763,-536.5 692,-536.5 692,-536.5 686,-536.5 680,-530.5 680,-524.5 680,-524.5 680,-480.5 680,-480.5 680,-474.5 686,-468.5 692,-468.5 692,-468.5 763,-468.5 763,-468.5 769,-468.5 775,-474.5 775,-480.5 775,-480.5 775,-524.5 775,-524.5 775,-530.5 769,-536.5 763,-536.5\"/>\n<text text-anchor=\"start\" x=\"699.5\" y=\"-521.3\" font-family=\"Helvetica,sans-Serif\" font-size=\"14.00\">gini = 0.0</text>\n<text text-anchor=\"start\" x=\"690\" y=\"-506.3\" font-family=\"Helvetica,sans-Serif\" font-size=\"14.00\">samples = 6</text>\n<text text-anchor=\"start\" x=\"688\" y=\"-491.3\" font-family=\"Helvetica,sans-Serif\" font-size=\"14.00\">value = [0, 6]</text>\n<text text-anchor=\"start\" x=\"700\" y=\"-476.3\" font-family=\"Helvetica,sans-Serif\" font-size=\"14.00\">class = 1</text>\n</g>\n<!-- 17&#45;&gt;18 -->\n<g id=\"edge18\" class=\"edge\">\n<title>17&#45;&gt;18</title>\n<path fill=\"none\" stroke=\"black\" d=\"M778.44,-579.91C770.93,-568.65 762.78,-556.42 755.24,-545.11\"/>\n<polygon fill=\"black\" stroke=\"black\" points=\"758.07,-543.05 749.61,-536.67 752.25,-546.93 758.07,-543.05\"/>\n</g>\n<!-- 19 -->\n<g id=\"node20\" class=\"node\">\n<title>19</title>\n<path fill=\"#ea985d\" stroke=\"black\" d=\"M961.5,-544C961.5,-544 805.5,-544 805.5,-544 799.5,-544 793.5,-538 793.5,-532 793.5,-532 793.5,-473 793.5,-473 793.5,-467 799.5,-461 805.5,-461 805.5,-461 961.5,-461 961.5,-461 967.5,-461 973.5,-467 973.5,-473 973.5,-473 973.5,-532 973.5,-532 973.5,-538 967.5,-544 961.5,-544\"/>\n<text text-anchor=\"start\" x=\"801.5\" y=\"-528.8\" font-family=\"Helvetica,sans-Serif\" font-size=\"14.00\">concave points error ≤ 0.01</text>\n<text text-anchor=\"start\" x=\"851.5\" y=\"-513.8\" font-family=\"Helvetica,sans-Serif\" font-size=\"14.00\">gini = 0.26</text>\n<text text-anchor=\"start\" x=\"842.5\" y=\"-498.8\" font-family=\"Helvetica,sans-Serif\" font-size=\"14.00\">samples = 13</text>\n<text text-anchor=\"start\" x=\"840.5\" y=\"-483.8\" font-family=\"Helvetica,sans-Serif\" font-size=\"14.00\">value = [11, 2]</text>\n<text text-anchor=\"start\" x=\"856\" y=\"-468.8\" font-family=\"Helvetica,sans-Serif\" font-size=\"14.00\">class = 0</text>\n</g>\n<!-- 17&#45;&gt;19 -->\n<g id=\"edge19\" class=\"edge\">\n<title>17&#45;&gt;19</title>\n<path fill=\"none\" stroke=\"black\" d=\"M832.56,-579.91C838.43,-571.1 844.7,-561.7 850.76,-552.61\"/>\n<polygon fill=\"black\" stroke=\"black\" points=\"853.85,-554.28 856.49,-544.02 848.03,-550.4 853.85,-554.28\"/>\n</g>\n<!-- 20 -->\n<g id=\"node21\" class=\"node\">\n<title>20</title>\n<path fill=\"#e58139\" stroke=\"black\" d=\"M832.5,-417.5C832.5,-417.5 754.5,-417.5 754.5,-417.5 748.5,-417.5 742.5,-411.5 742.5,-405.5 742.5,-405.5 742.5,-361.5 742.5,-361.5 742.5,-355.5 748.5,-349.5 754.5,-349.5 754.5,-349.5 832.5,-349.5 832.5,-349.5 838.5,-349.5 844.5,-355.5 844.5,-361.5 844.5,-361.5 844.5,-405.5 844.5,-405.5 844.5,-411.5 838.5,-417.5 832.5,-417.5\"/>\n<text text-anchor=\"start\" x=\"765.5\" y=\"-402.3\" font-family=\"Helvetica,sans-Serif\" font-size=\"14.00\">gini = 0.0</text>\n<text text-anchor=\"start\" x=\"752.5\" y=\"-387.3\" font-family=\"Helvetica,sans-Serif\" font-size=\"14.00\">samples = 11</text>\n<text text-anchor=\"start\" x=\"750.5\" y=\"-372.3\" font-family=\"Helvetica,sans-Serif\" font-size=\"14.00\">value = [11, 0]</text>\n<text text-anchor=\"start\" x=\"766\" y=\"-357.3\" font-family=\"Helvetica,sans-Serif\" font-size=\"14.00\">class = 0</text>\n</g>\n<!-- 19&#45;&gt;20 -->\n<g id=\"edge20\" class=\"edge\">\n<title>19&#45;&gt;20</title>\n<path fill=\"none\" stroke=\"black\" d=\"M852.27,-460.91C843.53,-449.54 834.02,-437.18 825.25,-425.77\"/>\n<polygon fill=\"black\" stroke=\"black\" points=\"827.88,-423.46 819.01,-417.67 822.34,-427.73 827.88,-423.46\"/>\n</g>\n<!-- 21 -->\n<g id=\"node22\" class=\"node\">\n<title>21</title>\n<path fill=\"#399de5\" stroke=\"black\" d=\"M946,-417.5C946,-417.5 875,-417.5 875,-417.5 869,-417.5 863,-411.5 863,-405.5 863,-405.5 863,-361.5 863,-361.5 863,-355.5 869,-349.5 875,-349.5 875,-349.5 946,-349.5 946,-349.5 952,-349.5 958,-355.5 958,-361.5 958,-361.5 958,-405.5 958,-405.5 958,-411.5 952,-417.5 946,-417.5\"/>\n<text text-anchor=\"start\" x=\"882.5\" y=\"-402.3\" font-family=\"Helvetica,sans-Serif\" font-size=\"14.00\">gini = 0.0</text>\n<text text-anchor=\"start\" x=\"873\" y=\"-387.3\" font-family=\"Helvetica,sans-Serif\" font-size=\"14.00\">samples = 2</text>\n<text text-anchor=\"start\" x=\"871\" y=\"-372.3\" font-family=\"Helvetica,sans-Serif\" font-size=\"14.00\">value = [0, 2]</text>\n<text text-anchor=\"start\" x=\"883\" y=\"-357.3\" font-family=\"Helvetica,sans-Serif\" font-size=\"14.00\">class = 1</text>\n</g>\n<!-- 19&#45;&gt;21 -->\n<g id=\"edge21\" class=\"edge\">\n<title>19&#45;&gt;21</title>\n<path fill=\"none\" stroke=\"black\" d=\"M892.87,-460.91C895.36,-450.09 898.07,-438.38 900.59,-427.44\"/>\n<polygon fill=\"black\" stroke=\"black\" points=\"904.01,-428.2 902.85,-417.67 897.19,-426.62 904.01,-428.2\"/>\n</g>\n<!-- 23 -->\n<g id=\"node24\" class=\"node\">\n<title>23</title>\n<path fill=\"#f4fafe\" stroke=\"black\" d=\"M1184,-663C1184,-663 1041,-663 1041,-663 1035,-663 1029,-657 1029,-651 1029,-651 1029,-592 1029,-592 1029,-586 1035,-580 1041,-580 1041,-580 1184,-580 1184,-580 1190,-580 1196,-586 1196,-592 1196,-592 1196,-651 1196,-651 1196,-657 1190,-663 1184,-663\"/>\n<text text-anchor=\"start\" x=\"1037\" y=\"-647.8\" font-family=\"Helvetica,sans-Serif\" font-size=\"14.00\">worst perimeter ≤ 115.25</text>\n<text text-anchor=\"start\" x=\"1084.5\" y=\"-632.8\" font-family=\"Helvetica,sans-Serif\" font-size=\"14.00\">gini = 0.5</text>\n<text text-anchor=\"start\" x=\"1071.5\" y=\"-617.8\" font-family=\"Helvetica,sans-Serif\" font-size=\"14.00\">samples = 35</text>\n<text text-anchor=\"start\" x=\"1065.5\" y=\"-602.8\" font-family=\"Helvetica,sans-Serif\" font-size=\"14.00\">value = [17, 18]</text>\n<text text-anchor=\"start\" x=\"1085\" y=\"-587.8\" font-family=\"Helvetica,sans-Serif\" font-size=\"14.00\">class = 1</text>\n</g>\n<!-- 22&#45;&gt;23 -->\n<g id=\"edge23\" class=\"edge\">\n<title>22&#45;&gt;23</title>\n<path fill=\"none\" stroke=\"black\" d=\"M1112.5,-698.91C1112.5,-690.65 1112.5,-681.86 1112.5,-673.3\"/>\n<polygon fill=\"black\" stroke=\"black\" points=\"1116,-673.02 1112.5,-663.02 1109,-673.02 1116,-673.02\"/>\n</g>\n<!-- 28 -->\n<g id=\"node29\" class=\"node\">\n<title>28</title>\n<path fill=\"#e5833c\" stroke=\"black\" d=\"M1401.5,-663C1401.5,-663 1271.5,-663 1271.5,-663 1265.5,-663 1259.5,-657 1259.5,-651 1259.5,-651 1259.5,-592 1259.5,-592 1259.5,-586 1265.5,-580 1271.5,-580 1271.5,-580 1401.5,-580 1401.5,-580 1407.5,-580 1413.5,-586 1413.5,-592 1413.5,-592 1413.5,-651 1413.5,-651 1413.5,-657 1407.5,-663 1401.5,-663\"/>\n<text text-anchor=\"start\" x=\"1267.5\" y=\"-647.8\" font-family=\"Helvetica,sans-Serif\" font-size=\"14.00\">concavity error ≤ 0.136</text>\n<text text-anchor=\"start\" x=\"1301\" y=\"-632.8\" font-family=\"Helvetica,sans-Serif\" font-size=\"14.00\">gini = 0.029</text>\n<text text-anchor=\"start\" x=\"1291.5\" y=\"-617.8\" font-family=\"Helvetica,sans-Serif\" font-size=\"14.00\">samples = 138</text>\n<text text-anchor=\"start\" x=\"1289.5\" y=\"-602.8\" font-family=\"Helvetica,sans-Serif\" font-size=\"14.00\">value = [136, 2]</text>\n<text text-anchor=\"start\" x=\"1309\" y=\"-587.8\" font-family=\"Helvetica,sans-Serif\" font-size=\"14.00\">class = 0</text>\n</g>\n<!-- 22&#45;&gt;28 -->\n<g id=\"edge28\" class=\"edge\">\n<title>22&#45;&gt;28</title>\n<path fill=\"none\" stroke=\"black\" d=\"M1190.22,-698.91C1209.61,-688.78 1230.52,-677.85 1250.3,-667.52\"/>\n<polygon fill=\"black\" stroke=\"black\" points=\"1252.06,-670.56 1259.3,-662.82 1248.82,-664.35 1252.06,-670.56\"/>\n</g>\n<!-- 24 -->\n<g id=\"node25\" class=\"node\">\n<title>24</title>\n<path fill=\"#65b3eb\" stroke=\"black\" d=\"M1131.5,-544C1131.5,-544 1003.5,-544 1003.5,-544 997.5,-544 991.5,-538 991.5,-532 991.5,-532 991.5,-473 991.5,-473 991.5,-467 997.5,-461 1003.5,-461 1003.5,-461 1131.5,-461 1131.5,-461 1137.5,-461 1143.5,-467 1143.5,-473 1143.5,-473 1143.5,-532 1143.5,-532 1143.5,-538 1137.5,-544 1131.5,-544\"/>\n<text text-anchor=\"start\" x=\"999.5\" y=\"-528.8\" font-family=\"Helvetica,sans-Serif\" font-size=\"14.00\">mean texture ≤ 21.055</text>\n<text text-anchor=\"start\" x=\"1032\" y=\"-513.8\" font-family=\"Helvetica,sans-Serif\" font-size=\"14.00\">gini = 0.298</text>\n<text text-anchor=\"start\" x=\"1026.5\" y=\"-498.8\" font-family=\"Helvetica,sans-Serif\" font-size=\"14.00\">samples = 22</text>\n<text text-anchor=\"start\" x=\"1024.5\" y=\"-483.8\" font-family=\"Helvetica,sans-Serif\" font-size=\"14.00\">value = [4, 18]</text>\n<text text-anchor=\"start\" x=\"1040\" y=\"-468.8\" font-family=\"Helvetica,sans-Serif\" font-size=\"14.00\">class = 1</text>\n</g>\n<!-- 23&#45;&gt;24 -->\n<g id=\"edge24\" class=\"edge\">\n<title>23&#45;&gt;24</title>\n<path fill=\"none\" stroke=\"black\" d=\"M1096.89,-579.91C1093.61,-571.38 1090.11,-562.28 1086.71,-553.46\"/>\n<polygon fill=\"black\" stroke=\"black\" points=\"1089.94,-552.1 1083.08,-544.02 1083.41,-554.61 1089.94,-552.1\"/>\n</g>\n<!-- 27 -->\n<g id=\"node28\" class=\"node\">\n<title>27</title>\n<path fill=\"#e58139\" stroke=\"black\" d=\"M1251.5,-536.5C1251.5,-536.5 1173.5,-536.5 1173.5,-536.5 1167.5,-536.5 1161.5,-530.5 1161.5,-524.5 1161.5,-524.5 1161.5,-480.5 1161.5,-480.5 1161.5,-474.5 1167.5,-468.5 1173.5,-468.5 1173.5,-468.5 1251.5,-468.5 1251.5,-468.5 1257.5,-468.5 1263.5,-474.5 1263.5,-480.5 1263.5,-480.5 1263.5,-524.5 1263.5,-524.5 1263.5,-530.5 1257.5,-536.5 1251.5,-536.5\"/>\n<text text-anchor=\"start\" x=\"1184.5\" y=\"-521.3\" font-family=\"Helvetica,sans-Serif\" font-size=\"14.00\">gini = 0.0</text>\n<text text-anchor=\"start\" x=\"1171.5\" y=\"-506.3\" font-family=\"Helvetica,sans-Serif\" font-size=\"14.00\">samples = 13</text>\n<text text-anchor=\"start\" x=\"1169.5\" y=\"-491.3\" font-family=\"Helvetica,sans-Serif\" font-size=\"14.00\">value = [13, 0]</text>\n<text text-anchor=\"start\" x=\"1185\" y=\"-476.3\" font-family=\"Helvetica,sans-Serif\" font-size=\"14.00\">class = 0</text>\n</g>\n<!-- 23&#45;&gt;27 -->\n<g id=\"edge27\" class=\"edge\">\n<title>23&#45;&gt;27</title>\n<path fill=\"none\" stroke=\"black\" d=\"M1147.19,-579.91C1157,-568.43 1167.68,-555.94 1177.51,-544.44\"/>\n<polygon fill=\"black\" stroke=\"black\" points=\"1180.32,-546.54 1184.15,-536.67 1174.99,-541.99 1180.32,-546.54\"/>\n</g>\n<!-- 25 -->\n<g id=\"node26\" class=\"node\">\n<title>25</title>\n<path fill=\"#399de5\" stroke=\"black\" d=\"M1085.5,-417.5C1085.5,-417.5 1007.5,-417.5 1007.5,-417.5 1001.5,-417.5 995.5,-411.5 995.5,-405.5 995.5,-405.5 995.5,-361.5 995.5,-361.5 995.5,-355.5 1001.5,-349.5 1007.5,-349.5 1007.5,-349.5 1085.5,-349.5 1085.5,-349.5 1091.5,-349.5 1097.5,-355.5 1097.5,-361.5 1097.5,-361.5 1097.5,-405.5 1097.5,-405.5 1097.5,-411.5 1091.5,-417.5 1085.5,-417.5\"/>\n<text text-anchor=\"start\" x=\"1018.5\" y=\"-402.3\" font-family=\"Helvetica,sans-Serif\" font-size=\"14.00\">gini = 0.0</text>\n<text text-anchor=\"start\" x=\"1005.5\" y=\"-387.3\" font-family=\"Helvetica,sans-Serif\" font-size=\"14.00\">samples = 18</text>\n<text text-anchor=\"start\" x=\"1003.5\" y=\"-372.3\" font-family=\"Helvetica,sans-Serif\" font-size=\"14.00\">value = [0, 18]</text>\n<text text-anchor=\"start\" x=\"1019\" y=\"-357.3\" font-family=\"Helvetica,sans-Serif\" font-size=\"14.00\">class = 1</text>\n</g>\n<!-- 24&#45;&gt;25 -->\n<g id=\"edge25\" class=\"edge\">\n<title>24&#45;&gt;25</title>\n<path fill=\"none\" stroke=\"black\" d=\"M1060.21,-460.91C1058.29,-450.2 1056.21,-438.62 1054.27,-427.78\"/>\n<polygon fill=\"black\" stroke=\"black\" points=\"1057.66,-426.89 1052.45,-417.67 1050.77,-428.13 1057.66,-426.89\"/>\n</g>\n<!-- 26 -->\n<g id=\"node27\" class=\"node\">\n<title>26</title>\n<path fill=\"#e58139\" stroke=\"black\" d=\"M1199,-417.5C1199,-417.5 1128,-417.5 1128,-417.5 1122,-417.5 1116,-411.5 1116,-405.5 1116,-405.5 1116,-361.5 1116,-361.5 1116,-355.5 1122,-349.5 1128,-349.5 1128,-349.5 1199,-349.5 1199,-349.5 1205,-349.5 1211,-355.5 1211,-361.5 1211,-361.5 1211,-405.5 1211,-405.5 1211,-411.5 1205,-417.5 1199,-417.5\"/>\n<text text-anchor=\"start\" x=\"1135.5\" y=\"-402.3\" font-family=\"Helvetica,sans-Serif\" font-size=\"14.00\">gini = 0.0</text>\n<text text-anchor=\"start\" x=\"1126\" y=\"-387.3\" font-family=\"Helvetica,sans-Serif\" font-size=\"14.00\">samples = 4</text>\n<text text-anchor=\"start\" x=\"1124\" y=\"-372.3\" font-family=\"Helvetica,sans-Serif\" font-size=\"14.00\">value = [4, 0]</text>\n<text text-anchor=\"start\" x=\"1136\" y=\"-357.3\" font-family=\"Helvetica,sans-Serif\" font-size=\"14.00\">class = 0</text>\n</g>\n<!-- 24&#45;&gt;26 -->\n<g id=\"edge26\" class=\"edge\">\n<title>24&#45;&gt;26</title>\n<path fill=\"none\" stroke=\"black\" d=\"M1100.81,-460.91C1110.22,-449.43 1120.47,-436.94 1129.91,-425.44\"/>\n<polygon fill=\"black\" stroke=\"black\" points=\"1132.65,-427.62 1136.29,-417.67 1127.24,-423.18 1132.65,-427.62\"/>\n</g>\n<!-- 29 -->\n<g id=\"node30\" class=\"node\">\n<title>29</title>\n<path fill=\"#e58139\" stroke=\"black\" d=\"M1379.5,-536.5C1379.5,-536.5 1293.5,-536.5 1293.5,-536.5 1287.5,-536.5 1281.5,-530.5 1281.5,-524.5 1281.5,-524.5 1281.5,-480.5 1281.5,-480.5 1281.5,-474.5 1287.5,-468.5 1293.5,-468.5 1293.5,-468.5 1379.5,-468.5 1379.5,-468.5 1385.5,-468.5 1391.5,-474.5 1391.5,-480.5 1391.5,-480.5 1391.5,-524.5 1391.5,-524.5 1391.5,-530.5 1385.5,-536.5 1379.5,-536.5\"/>\n<text text-anchor=\"start\" x=\"1308.5\" y=\"-521.3\" font-family=\"Helvetica,sans-Serif\" font-size=\"14.00\">gini = 0.0</text>\n<text text-anchor=\"start\" x=\"1291.5\" y=\"-506.3\" font-family=\"Helvetica,sans-Serif\" font-size=\"14.00\">samples = 136</text>\n<text text-anchor=\"start\" x=\"1289.5\" y=\"-491.3\" font-family=\"Helvetica,sans-Serif\" font-size=\"14.00\">value = [136, 0]</text>\n<text text-anchor=\"start\" x=\"1309\" y=\"-476.3\" font-family=\"Helvetica,sans-Serif\" font-size=\"14.00\">class = 0</text>\n</g>\n<!-- 28&#45;&gt;29 -->\n<g id=\"edge29\" class=\"edge\">\n<title>28&#45;&gt;29</title>\n<path fill=\"none\" stroke=\"black\" d=\"M1336.5,-579.91C1336.5,-569.2 1336.5,-557.62 1336.5,-546.78\"/>\n<polygon fill=\"black\" stroke=\"black\" points=\"1340,-546.67 1336.5,-536.67 1333,-546.67 1340,-546.67\"/>\n</g>\n<!-- 30 -->\n<g id=\"node31\" class=\"node\">\n<title>30</title>\n<path fill=\"#399de5\" stroke=\"black\" d=\"M1493,-536.5C1493,-536.5 1422,-536.5 1422,-536.5 1416,-536.5 1410,-530.5 1410,-524.5 1410,-524.5 1410,-480.5 1410,-480.5 1410,-474.5 1416,-468.5 1422,-468.5 1422,-468.5 1493,-468.5 1493,-468.5 1499,-468.5 1505,-474.5 1505,-480.5 1505,-480.5 1505,-524.5 1505,-524.5 1505,-530.5 1499,-536.5 1493,-536.5\"/>\n<text text-anchor=\"start\" x=\"1429.5\" y=\"-521.3\" font-family=\"Helvetica,sans-Serif\" font-size=\"14.00\">gini = 0.0</text>\n<text text-anchor=\"start\" x=\"1420\" y=\"-506.3\" font-family=\"Helvetica,sans-Serif\" font-size=\"14.00\">samples = 2</text>\n<text text-anchor=\"start\" x=\"1418\" y=\"-491.3\" font-family=\"Helvetica,sans-Serif\" font-size=\"14.00\">value = [0, 2]</text>\n<text text-anchor=\"start\" x=\"1430\" y=\"-476.3\" font-family=\"Helvetica,sans-Serif\" font-size=\"14.00\">class = 1</text>\n</g>\n<!-- 28&#45;&gt;30 -->\n<g id=\"edge30\" class=\"edge\">\n<title>28&#45;&gt;30</title>\n<path fill=\"none\" stroke=\"black\" d=\"M1378.48,-579.91C1390.58,-568.21 1403.77,-555.46 1415.84,-543.78\"/>\n<polygon fill=\"black\" stroke=\"black\" points=\"1418.44,-546.13 1423.2,-536.67 1413.58,-541.1 1418.44,-546.13\"/>\n</g>\n</g>\n</svg>\n",
            "text/plain": [
              "<graphviz.sources.Source at 0x7ac399777fd0>"
            ]
          },
          "metadata": {},
          "execution_count": 18
        }
      ]
    },
    {
      "cell_type": "markdown",
      "source": [
        "Now try setting the max_depth of the tree and see if it gives you better or worse performance.\n",
        "\n",
        "Next, try to apply a decision tree on Pima Indian Diabetes dataset."
      ],
      "metadata": {
        "id": "P5Db_t3PDqX1"
      }
    },
    {
      "cell_type": "code",
      "source": [],
      "metadata": {
        "id": "wgfhkx67-H0E"
      },
      "execution_count": null,
      "outputs": []
    }
  ]
}